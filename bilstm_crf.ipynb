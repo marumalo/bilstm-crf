{
  "nbformat": 4,
  "nbformat_minor": 0,
  "metadata": {
    "colab": {
      "name": "BiLSTM-CRF.ipynb",
      "provenance": [],
      "private_outputs": true,
      "toc_visible": true
    },
    "kernelspec": {
      "name": "python3",
      "display_name": "Python 3"
    },
    "accelerator": "GPU"
  },
  "cells": [
    {
      "cell_type": "code",
      "metadata": {
        "id": "QFd49PHK5mv9",
        "colab_type": "code",
        "cellView": "form",
        "colab": {}
      },
      "source": [
        "#@title Installation\n",
        "!pip install --quiet allennlp\n",
        "!pip install --quiet spacy==2.2.0"
      ],
      "execution_count": 0,
      "outputs": []
    },
    {
      "cell_type": "code",
      "metadata": {
        "id": "GJATwOnL5wQ6",
        "colab_type": "code",
        "cellView": "form",
        "colab": {}
      },
      "source": [
        "#@title Imports\n",
        "import os\n",
        "\n",
        "import torch\n",
        "import torch.nn as nn\n",
        "import torch.optim as optim\n",
        "\n",
        "from allennlp.data.vocabulary import Vocabulary\n",
        "from allennlp.data.dataset_readers.sequence_tagging import SequenceTaggingDatasetReader\n",
        "from allennlp.data.iterators import BucketIterator\n",
        "from allennlp.training.trainer import Trainer\n",
        "\n",
        "from allennlp.modules.token_embedders import Embedding\n",
        "from allennlp.modules.text_field_embedders.basic_text_field_embedder import BasicTextFieldEmbedder\n",
        "from allennlp.modules.seq2seq_encoders import PytorchSeq2SeqWrapper\n",
        "from allennlp.models import CrfTagger"
      ],
      "execution_count": 0,
      "outputs": []
    },
    {
      "cell_type": "code",
      "metadata": {
        "id": "kGSKQX_I6ZGJ",
        "colab_type": "code",
        "cellView": "both",
        "colab": {}
      },
      "source": [
        "#@title Load datasets\n",
        "train_path = \"./drive/My Drive/CoNLL2003/train.txt\" #@param {type: \"string\"}\n",
        "valid_path = \"./drive/My Drive/CoNLL2003/valid.txt\" #@param {type: \"string\"}\n",
        "reader = SequenceTaggingDatasetReader(\n",
        "    word_tag_delimiter='###',\n",
        "    token_delimiter=' ',\n",
        ")\n",
        "\n",
        "train_dataset = reader.read(train_path)\n",
        "valid_dataset = reader.read(valid_path)\n",
        "vocab = Vocabulary.from_instances(train_dataset + valid_dataset)"
      ],
      "execution_count": 0,
      "outputs": []
    },
    {
      "cell_type": "code",
      "metadata": {
        "id": "F7uMZr-Q77Td",
        "colab_type": "code",
        "cellView": "both",
        "colab": {}
      },
      "source": [
        "#@title Build a BiLSTM-CRF\n",
        "EMBED_DIM = 256 #@param {type: \"number\"}\n",
        "HIDDEN_DIM = 256 #@param{type: \"number\"}\n",
        "\n",
        "token_embedding = Embedding(\n",
        "        num_embeddings=vocab.get_vocab_size('tokens'),\n",
        "        embedding_dim=EMBED_DIM,\n",
        "    )\n",
        "word_embeddings = BasicTextFieldEmbedder({'tokens': token_embedding})\n",
        "\n",
        "bilstm = nn.LSTM(\n",
        "  EMBED_DIM,\n",
        "  HIDDEN_DIM,\n",
        "  batch_first=True,\n",
        "  bidirectional=True\n",
        ")\n",
        "encoder = PytorchSeq2SeqWrapper(bilstm)\n",
        "\n",
        "model = CrfTagger(\n",
        "  vocab=vocab,\n",
        "  text_field_embedder=word_embeddings,\n",
        "  encoder=encoder,\n",
        ")"
      ],
      "execution_count": 0,
      "outputs": []
    },
    {
      "cell_type": "code",
      "metadata": {
        "id": "aWQ_OzZE86RH",
        "colab_type": "code",
        "colab": {}
      },
      "source": [
        "#@title Set a Trainer\n",
        "BATCH_SIZE =  32#@param {type: \"number\"}\n",
        "LR =  0.1#@param {type: \"number\"}\n",
        "PATIENCE=10 #@param {type: \"number\"}\n",
        "MAX_EPOCH=50 #@param {type: \"number\"}\n",
        "GRAD_NORM=1.0 #@param {type: \"number\"}\n",
        "\n",
        "optimizer = optim.SGD(model.parameters(), lr=LR)\n",
        "iterator = BucketIterator(\n",
        "  batch_size=BATCH_SIZE, \n",
        "  sorting_keys=[(\"tokens\", \"num_tokens\")]\n",
        ")\n",
        "iterator.index_with(vocab)\n",
        "\n",
        "if torch.cuda.is_available():\n",
        "  cuda_device = 0\n",
        "  model = model.cuda(cuda_device)\n",
        "else:\n",
        "  cuda_device = -1\n",
        "\n",
        "\n",
        "trainer = Trainer(\n",
        "  model=model,\n",
        "  optimizer=optimizer,\n",
        "  iterator=iterator,\n",
        "  train_dataset=train_dataset,\n",
        "  validation_dataset=valid_dataset,\n",
        "  patience=PATIENCE,\n",
        "  num_epochs=MAX_EPOCH,\n",
        "  grad_norm=GRAD_NORM,\n",
        "  cuda_device=cuda_device\n",
        ")"
      ],
      "execution_count": 0,
      "outputs": []
    },
    {
      "cell_type": "code",
      "metadata": {
        "id": "q-DZwI5p-hQM",
        "colab_type": "code",
        "colab": {}
      },
      "source": [
        "#@title Run training\n",
        "trainer.train()"
      ],
      "execution_count": 0,
      "outputs": []
    },
    {
      "cell_type": "code",
      "metadata": {
        "id": "s9Lb_ovX_Y1Z",
        "colab_type": "code",
        "colab": {}
      },
      "source": [
        "#@title Save a model\n",
        "save_dir = './drive/My Drive/CoNLL2003' #@param{type: \"string\"}\n",
        "file_name = 'bilstm-crf' #@param{type: \"string\"}\n",
        "\n",
        "if not os.path.exists(save_dir):\n",
        "        os.mkdir(save_dir)\n",
        "\n",
        "with open(f'{save_dir}/{file_name}.th', 'wb') as f:\n",
        "  torch.save(model.state_dict(), f)\n",
        "vocab.save_to_files(f'{save_dir}/{file_name}.vocab')"
      ],
      "execution_count": 0,
      "outputs": []
    }
  ]
}